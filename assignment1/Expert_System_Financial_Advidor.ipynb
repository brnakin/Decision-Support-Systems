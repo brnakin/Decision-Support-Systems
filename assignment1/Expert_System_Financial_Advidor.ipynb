{
 "cells": [
  {
   "cell_type": "code",
   "execution_count": 1,
   "metadata": {},
   "outputs": [
    {
     "name": "stdout",
     "output_type": "stream",
     "text": [
      "Number of Dependents: 3\n",
      "Income Steady: True\n",
      "Amount Saved: 10000.0\n",
      "Income: 20000.0\n"
     ]
    }
   ],
   "source": [
    "# Inputs\n",
    "no_of_dependents = int(input(\"Enter the number of dependents: \"))\n",
    "income_steady = input(\"Is your income steady? (yes/no): \").strip().lower() == \"yes\"\n",
    "amount_saved = float(input(\"Enter the amount you have saved: \"))\n",
    "income = float(input(\"Enter your current income: \"))\n",
    "\n",
    "# Display inputs\n",
    "print(\"Number of Dependents:\", no_of_dependents)\n",
    "print(\"Income Steady:\", income_steady)\n",
    "print(\"Amount Saved:\", amount_saved)\n",
    "print(\"Income:\", income)"
   ]
  },
  {
   "cell_type": "code",
   "execution_count": 2,
   "metadata": {},
   "outputs": [
    {
     "name": "stdout",
     "output_type": "stream",
     "text": [
      "Savings Threshold: 9000\n",
      "Income Threshold: 16500\n"
     ]
    }
   ],
   "source": [
    "# Calculating thresholds\n",
    "savings_threshold = no_of_dependents * 3000  # Minimum savings required\n",
    "income_threshold = 9000 + no_of_dependents * 2500  # Minimum income required\n",
    "\n",
    "print(\"Savings Threshold:\", savings_threshold)\n",
    "print(\"Income Threshold:\", income_threshold)"
   ]
  },
  {
   "cell_type": "code",
   "execution_count": 3,
   "metadata": {},
   "outputs": [
    {
     "name": "stdout",
     "output_type": "stream",
     "text": [
      "Savings Adequate: True\n",
      "Income Adequate: True\n"
     ]
    }
   ],
   "source": [
    "# Determine if savings and income are adequate\n",
    "is_savings_adequate = amount_saved > savings_threshold\n",
    "is_income_adequate = income_steady and (income > income_threshold)\n",
    "\n",
    "print(\"Savings Adequate:\", is_savings_adequate)\n",
    "print(\"Income Adequate:\", is_income_adequate)"
   ]
  },
  {
   "cell_type": "code",
   "execution_count": 4,
   "metadata": {},
   "outputs": [
    {
     "name": "stdout",
     "output_type": "stream",
     "text": [
      "Recommendation: Recommendation: Invest in stocks for growth.\n"
     ]
    }
   ],
   "source": [
    "# Recommendation based on conditions\n",
    "if not is_savings_adequate:\n",
    "    recommendation = \"Recommendation: Focus on building your savings.\"\n",
    "elif not is_income_adequate:\n",
    "    recommendation = \"Recommendation: Consider a balanced investment strategy.\"\n",
    "else:\n",
    "    recommendation = \"Recommendation: Invest in stocks for growth.\"\n",
    "\n",
    "print(\"Recommendation:\", recommendation)"
   ]
  }
 ],
 "metadata": {
  "kernelspec": {
   "display_name": "decision-support-systems-experta",
   "language": "python",
   "name": "python3"
  },
  "language_info": {
   "codemirror_mode": {
    "name": "ipython",
    "version": 3
   },
   "file_extension": ".py",
   "mimetype": "text/x-python",
   "name": "python",
   "nbconvert_exporter": "python",
   "pygments_lexer": "ipython3",
   "version": "3.9.20"
  }
 },
 "nbformat": 4,
 "nbformat_minor": 2
}
